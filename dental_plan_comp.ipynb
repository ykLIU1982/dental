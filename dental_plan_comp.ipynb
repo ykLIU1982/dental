{
 "cells": [
  {
   "cell_type": "code",
   "execution_count": 2,
   "metadata": {
    "collapsed": false
   },
   "outputs": [],
   "source": [
    "import matplotlib.pyplot as plt"
   ]
  },
  {
   "cell_type": "markdown",
   "metadata": {},
   "source": [
    "The function, nonPremCost, calculates the annual out-of-pocket dental expense for a single adult excluding the monthly premium given the following assumptions:\n",
    "\n",
    "1) The adult receives preventive services (exam and cleanings) twice a year at a constant rate, unitCostPrev. The insurance package have a deductible for the preventive services at prevDeduct and a copayment coverage of rPrev, 50%-100%.\n",
    "\n",
    "2) We only consider the adult only needs some basic teeth services beside preventive services.\n",
    "\n",
    "3) The cost of basic teeth services per year is set in a range from 0 to $2000 per year.\n",
    "\n",
    "4) There is a deductible for the basic services at baseDeduct and the cost beyond the deductible will be paid by the insurance company at the coverage ratio of rBase.\n",
    "\n",
    "5) The total paid coverage by the insurance company is bounded by the maximum benefit, maxY, which depends on the selection of the dental insurance package ranging from \\$500 to \\$2000.\n",
    "\n",
    "6) In the cases when the deductible is shared by preventive services and basic services, we assume that the preventive services will first claim the deductible. The coverage of basic services will be triggered immediately after the preventive services when the latter use up the deductible, which is usually the case."
   ]
  },
  {
   "cell_type": "code",
   "execution_count": 3,
   "metadata": {
    "collapsed": false
   },
   "outputs": [],
   "source": [
    "def nonPremCost(maxY, unitCostPrev, rPrev, prevDeduct, costBase, rBase, baseDeduct):\n",
    "    paidPrev = 0\n",
    "    paidBase = 0\n",
    "    \n",
    "    # first, calculate the preventive services, suppose that 2 units per year\n",
    "    totalCostPrev = unitCostPrev * 2\n",
    "    coveredPrev = min(maxY, max(0, totalCostPrev - prevDeduct) * rPrev)\n",
    "    #print('coveredPrev=', coveredPrev)\n",
    "    coveredBase = maxY - coveredPrev\n",
    "    paidPrev = totalCostPrev - coveredPrev;\n",
    "    #print('paidPrev=', paidPrev)\n",
    "    \n",
    "    # second, calculate the basic filling services, suppose that total cost is costBase\n",
    "    if coveredBase <= 0:\n",
    "        paidBase = costBase\n",
    "    else:\n",
    "        paidBase = costBase - min(coveredBase, rBase*max(0, costBase-baseDeduct))\n",
    "        \n",
    "    extraCost = paidPrev + paidBase\n",
    "    \n",
    "    return extraCost  \n",
    "    "
   ]
  },
  {
   "cell_type": "markdown",
   "metadata": {},
   "source": [
    "Here, we consider different dental insurance options which are available online for individual and group member plans."
   ]
  },
  {
   "cell_type": "code",
   "execution_count": 4,
   "metadata": {
    "collapsed": false
   },
   "outputs": [],
   "source": [
    "unitCostPrev = 150 # cost estimate for each teeth cleaning\n",
    "x = [50*i for i in range(21)] # vector for total base cost\n",
    "\n",
    "\n",
    "# BlueCare lower $28.93\n",
    "# nonPremCost(1000, unitCostPrev, 1, 100, costBase, 0.8, 100)\n",
    "yB1 = [nonPremCost(1000, unitCostPrev, 1, 100, costBase, 0.8, 100) for costBase in x]\n",
    "yB1t = [i+28.93*12 for i in yB1] # total out-of-pocket (absolute)\n",
    "yB1a = [i/.7+28.93*12 for i in yB1] # adjusted to pre-tax cost\n",
    "\n",
    "# BlueCare Higher $ 44.76\n",
    "# nonPremCost(1000, unitCostPrev, 1, 0, costBase, 0.8, 60)\n",
    "yB2 = [nonPremCost(1000, unitCostPrev, 1, 0, costBase, 0.8, 60) for costBase in x]\n",
    "yB2t = [i+44.76*12 for i in yB2]\n",
    "yB2a = [i/.7+44.76*12 for i in yB2]\n",
    "\n",
    "# Metlife Option 1 $33.62\n",
    "# nonPremCost(1000, unitCostPrev, 1, 0, costBase, 0.7, 75)\n",
    "yM1 = [nonPremCost(1000, unitCostPrev, 1, 0, costBase, 0.7, 75) for costBase in x]\n",
    "yM1t = [i+33.62*12 for i in yM1]\n",
    "yM1a = [i/.7+33.62*12 for i in yM1]\n",
    "\n",
    "# Metlife Option 2 $37.5\n",
    "# nonPremCost(1500, unitCostPrev, 1, 0, costBase, 0.7, 50)\n",
    "yM2 = [nonPremCost(1500, unitCostPrev, 1, 0, costBase, 0.7, 50) for costBase in x]\n",
    "yM2t = [i+37.5*12 for i in yM2]\n",
    "yM2a = [i/.7+37.5*12 for i in yM2]\n",
    "\n",
    "# Metlife Option 3 $42.36\n",
    "# nonPremCost(2000, unitCostPrev, 1, 0, costBase, 0.8, 25)\n",
    "yM3 = [nonPremCost(2000, unitCostPrev, 1, 0, costBase, 0.8, 25) for costBase in x]\n",
    "yM3t = [i+42.36*12 for i in yM3]\n",
    "yM3a = [i/.7+42.36*12 for i in yM3]\n",
    "\n",
    "# Guardian Option 1 $ 37.07\n",
    "# nonPremCost(1000, unitCostPrev, 1, 50, costBase, 0.7, 0)\n",
    "yG1 = [nonPremCost(1000, unitCostPrev, 1, 50, costBase, 0.7, 0) for costBase in x]\n",
    "yG1t = [i+37.07*12 for i in yG1]\n",
    "yG1a = [i/.7+37.07*12 for i in yG1]\n",
    "\n",
    "# Guardian Option 2 $ 25.50\n",
    "# nonPremCost(500, unitCostPrev, 0.8, 50, costBase, 0.5, 0)\n",
    "yG2 = [nonPremCost(500, unitCostPrev, 0.8, 50, costBase, 0.5, 0) for costBase in x]\n",
    "yG2t = [i+25.50*12 for i in yG2]\n",
    "yG2a = [i/.7+25.50*12 for i in yG2]\n",
    "\n",
    "# Metlife Option 4 $37.5\n",
    "# nonPremCost(1500, unitCostPrev, 1, 0, costBase, 0.8, 50)\n",
    "yMg = [nonPremCost(1500, unitCostPrev, 1, 0, costBase, 0.8, 50) for costBase in x]\n",
    "yMgt = [i+37.5*12 for i in yMg]\n",
    "yMga = [i/.7+37.5*12 for i in yMg]\n",
    "\n",
    "y = [i+2*unitCostPrev for i in x]\n",
    "\n",
    "plotChoice = 1\n",
    "\n",
    "if plotChoice == 0:\n",
    "    plt.plot(x,yB1,'b--',x,yB2,'b^',x,yM1,'r--',x,yM2,'r^',x,yM3,'r*',x,yG1,'g--', x,yG2,'g^', x, yMg, 'ro')\n",
    "    plt.title('Extra Dental Cost when preventive cost: %s' %(unitCostPrev*2))\n",
    "elif plotChoice == 1:\n",
    "    plt.plot(x,y,'k', x,yB1t,'b--',x,yB2t,'b^',x,yM1t,'r--',x,yM2t,'r^',x,yM3t,'r*',x,yG1t,'g--', x,yG2t,'g^')\n",
    "    plt.title('Dental Cost in the bill when preventive cost: %s' %(unitCostPrev*2))\n",
    "elif plotChoice == 2:\n",
    "    plt.plot(x,y,'k',x,yB1a,'b--',x,yB2a,'b^',x,yM1a,'r--',x,yM2a,'r^',x,yM3a,'r*',x,yG1a,'g--', x,yG2a,'g^', x, yMga, 'ro')\n",
    "    plt.title('Adjusted Pre-Tax Dental Cost when preventive cost: %s' %(unitCostPrev*2))\n",
    "else:\n",
    "    print('no figure generateds')\n",
    "\n",
    "plt.show()"
   ]
  },
  {
   "cell_type": "code",
   "execution_count": null,
   "metadata": {
    "collapsed": true
   },
   "outputs": [],
   "source": []
  }
 ],
 "metadata": {
  "kernelspec": {
   "display_name": "Python 3",
   "language": "python",
   "name": "python3"
  },
  "language_info": {
   "codemirror_mode": {
    "name": "ipython",
    "version": 3
   },
   "file_extension": ".py",
   "mimetype": "text/x-python",
   "name": "python",
   "nbconvert_exporter": "python",
   "pygments_lexer": "ipython3",
   "version": "3.5.1"
  }
 },
 "nbformat": 4,
 "nbformat_minor": 0
}
